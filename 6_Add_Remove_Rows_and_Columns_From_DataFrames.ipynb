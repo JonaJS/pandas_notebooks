{
  "nbformat": 4,
  "nbformat_minor": 0,
  "metadata": {
    "colab": {
      "name": "6_Untitled.ipynb",
      "provenance": [],
      "authorship_tag": "ABX9TyNUt5XUlBnq4O1iHZ82UtI0",
      "include_colab_link": true
    },
    "kernelspec": {
      "name": "python3",
      "display_name": "Python 3"
    },
    "language_info": {
      "name": "python"
    }
  },
  "cells": [
    {
      "cell_type": "markdown",
      "metadata": {
        "id": "view-in-github",
        "colab_type": "text"
      },
      "source": [
        "<a href=\"https://colab.research.google.com/github/JonathanSosa-py/pandas_notebooks/blob/main/6_Add_Remove_Rows_and_Columns_From_DataFrames.ipynb\" target=\"_parent\"><img src=\"https://colab.research.google.com/assets/colab-badge.svg\" alt=\"Open In Colab\"/></a>"
      ]
    },
    {
      "cell_type": "code",
      "execution_count": null,
      "metadata": {
        "id": "piQA8i_kIgDy"
      },
      "outputs": [],
      "source": [
        "import pandas as pd"
      ]
    }
  ]
}