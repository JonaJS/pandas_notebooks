{
  "nbformat": 4,
  "nbformat_minor": 0,
  "metadata": {
    "colab": {
      "name": "9_Cleaning Data _Casting Datatypes and Handling Missing Values.ipynb",
      "provenance": [],
      "authorship_tag": "ABX9TyOq5p7xU2D0uPawk04XGJ5r",
      "include_colab_link": true
    },
    "kernelspec": {
      "name": "python3",
      "display_name": "Python 3"
    },
    "language_info": {
      "name": "python"
    }
  },
  "cells": [
    {
      "cell_type": "markdown",
      "metadata": {
        "id": "view-in-github",
        "colab_type": "text"
      },
      "source": [
        "<a href=\"https://colab.research.google.com/github/JonathanSosa-py/pandas_notebooks/blob/main/9_Cleaning_Data__Casting_Datatypes_and_Handling_Missing_Values.ipynb\" target=\"_parent\"><img src=\"https://colab.research.google.com/assets/colab-badge.svg\" alt=\"Open In Colab\"/></a>"
      ]
    },
    {
      "cell_type": "code",
      "execution_count": null,
      "metadata": {
        "id": "pnIPh2KPqv0L"
      },
      "outputs": [],
      "source": [
        ""
      ]
    }
  ]
}